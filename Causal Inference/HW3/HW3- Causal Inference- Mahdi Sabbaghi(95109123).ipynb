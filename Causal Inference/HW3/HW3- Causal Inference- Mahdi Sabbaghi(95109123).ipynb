{
 "cells": [
  {
   "cell_type": "markdown",
   "metadata": {},
   "source": [
    "# HW3\n",
    "## Mahdi Sabbaghi (95109123)\n"
   ]
  },
  {
   "cell_type": "markdown",
   "metadata": {},
   "source": [
    "## Problem 1:\n",
    "### Part 1\n"
   ]
  },
  {
   "cell_type": "markdown",
   "metadata": {},
   "source": [
    "First Reading the data"
   ]
  },
  {
   "cell_type": "code",
   "execution_count": 3,
   "metadata": {},
   "outputs": [],
   "source": [
    "X= read.delim(\"model01.txt\", header = FALSE, sep = \",\");\n",
    "X= as.matrix(X)"
   ]
  },
  {
   "cell_type": "markdown",
   "metadata": {},
   "source": [
    "A function for \"all but a node\"!"
   ]
  },
  {
   "cell_type": "code",
   "execution_count": 4,
   "metadata": {},
   "outputs": [],
   "source": [
    "except <-  function(m ,k){\n",
    "    if (k==1){\n",
    "        r<- c(2:m)\n",
    "    } else if (k<m){\n",
    "        r<- cbind(t(c(1:(k-1))), t(c((k+1):m)))\n",
    "    } else {\n",
    "        r<- c(1:(m-1))\n",
    "    }\n",
    "    r\n",
    "}"
   ]
  },
  {
   "cell_type": "markdown",
   "metadata": {},
   "source": [
    "A function that taking two vectors: indices and values and fill the indices with values!"
   ]
  },
  {
   "cell_type": "code",
   "execution_count": 5,
   "metadata": {},
   "outputs": [],
   "source": [
    "filling <-  function(m, indices, values){\n",
    "    X= rep(0, m);\n",
    "    for (i in c(1:length(indices))){\n",
    "        X[indices[i]]= values[i]; \n",
    "    }\n",
    "    X\n",
    "}"
   ]
  },
  {
   "cell_type": "markdown",
   "metadata": {},
   "source": [
    "For Granger Causality, Because we know that the effects are at most by one delay of time unit, I used $Y_t^i\\independent X_{t-1}^j|X_{t-1}^{-j}$\n",
    "For this, I build myX and myY and then by thresholding the variance, I found the adjacenct Matric. After that I regressed the values on causes"
   ]
  },
  {
   "cell_type": "code",
   "execution_count": 6,
   "metadata": {},
   "outputs": [
    {
     "name": "stdout",
     "output_type": "stream",
     "text": [
      "                        [,1]\n",
      "(Intercept)       0.97251553\n",
      "myX[, indices]V1  0.20172953\n",
      "myX[, indices]V2 -0.06971603\n",
      "myX[, indices]V3  0.50486260\n",
      "[1]  0.20172953 -0.06971603  0.50486260\n",
      "                       [,1]\n",
      "(Intercept)       0.9672608\n",
      "myX[, indices]V1 -0.3791335\n",
      "myX[, indices]V2  0.2413680\n",
      "[1] -0.3791335  0.2413680\n",
      "                        [,1]\n",
      "(Intercept)      -0.08553238\n",
      "myX[, indices]V1 -0.09124049\n",
      "myX[, indices]V2  0.29407473\n",
      "myX[, indices]V3  0.30801015\n",
      "[1] -0.09124049  0.29407473  0.30801015\n"
     ]
    },
    {
     "data": {
      "text/html": [
       "<table>\n",
       "<caption>A matrix: 3 × 3 of type dbl</caption>\n",
       "<tbody>\n",
       "\t<tr><td> 0.20172953</td><td>-0.06971603</td><td>0.5048626</td></tr>\n",
       "\t<tr><td>-0.37913354</td><td> 0.24136804</td><td>0.0000000</td></tr>\n",
       "\t<tr><td>-0.09124049</td><td> 0.29407473</td><td>0.3080101</td></tr>\n",
       "</tbody>\n",
       "</table>\n"
      ],
      "text/latex": [
       "A matrix: 3 × 3 of type dbl\n",
       "\\begin{tabular}{lll}\n",
       "\t  0.20172953 & -0.06971603 & 0.5048626\\\\\n",
       "\t -0.37913354 &  0.24136804 & 0.0000000\\\\\n",
       "\t -0.09124049 &  0.29407473 & 0.3080101\\\\\n",
       "\\end{tabular}\n"
      ],
      "text/markdown": [
       "\n",
       "A matrix: 3 × 3 of type dbl\n",
       "\n",
       "|  0.20172953 | -0.06971603 | 0.5048626 |\n",
       "| -0.37913354 |  0.24136804 | 0.0000000 |\n",
       "| -0.09124049 |  0.29407473 | 0.3080101 |\n",
       "\n"
      ],
      "text/plain": [
       "     [,1]        [,2]        [,3]     \n",
       "[1,]  0.20172953 -0.06971603 0.5048626\n",
       "[2,] -0.37913354  0.24136804 0.0000000\n",
       "[3,] -0.09124049  0.29407473 0.3080101"
      ]
     },
     "metadata": {},
     "output_type": "display_data"
    }
   ],
   "source": [
    "Granger_causality <- function(data, thr){\n",
    "    n= dim(data)[1]; \n",
    "    m= dim(data)[2];\n",
    "    \n",
    "    myX<- data[1:n-1, ];\n",
    "    myY<- data[2:n  , ];\n",
    "    \n",
    "    adjacency<- matrix(0, nrow= m, ncol= m);\n",
    "    for (j in c(1:m)){\n",
    "        for (k in c(1:m)){\n",
    "            mdl1<- lm(myY[ ,c(j)]~ myX[, except(m, k)]);\n",
    "            res1<- residuals(mdl1);\n",
    "            var1<- var(res1); \n",
    "            mdl2<- lm(myY[, c(j)]~ myX[, c(1:m)]);\n",
    "            res2<- residuals(mdl2);\n",
    "            var2<- var(res2); \n",
    "            if (var2< thr*var1){\n",
    "                adjacency[j, k]=1;\n",
    "            }\n",
    "        }\n",
    "    }\n",
    "    adjacency\n",
    "    for (j in c(1:m)){\n",
    "        indices= which(adjacency[j, ]!= 0)\n",
    "        mdl1<- lm(myY[ ,c(j)]~ myX[,indices]);\n",
    "        coeff<- as.matrix(coef(mdl1))\n",
    "        print(coeff)\n",
    "        coeff<- coeff[2: (dim(coeff)[1])]\n",
    "        print(coeff);\n",
    "        adjacency[j, ]= filling(m, indices, coeff)\n",
    "    }\n",
    "    adjacency\n",
    "}\n",
    "\n",
    "Granger_causality(X, 0.999)"
   ]
  },
  {
   "cell_type": "markdown",
   "metadata": {},
   "source": [
    "For PC Algorithm I just used the code I had from HW2 for the skeleton part. Also I make the initial edge for instantenous effect zero to have better results!  and then regress on the causes again"
   ]
  },
  {
   "cell_type": "code",
   "execution_count": 9,
   "metadata": {},
   "outputs": [],
   "source": [
    "total_degree <- function(m){\n",
    "  n= dim(m)[1]\n",
    "  max=0 \n",
    "  for (i in c(1:n)){\n",
    "      s= sum(m[i, ])\n",
    "      if (s>max){\n",
    "          max= s\n",
    "      }\n",
    "  }\n",
    "  max\n",
    "}\n",
    "vertex_degree <- function(m, i){\n",
    "  s= sum(m[i, ])\n",
    "  s\n",
    "}\n",
    "delete_edge <- function(m, i, j){\n",
    "  m[i, j]<-0\n",
    "  m[j, i]<-0\n",
    "  m\n",
    "}"
   ]
  },
  {
   "cell_type": "code",
   "execution_count": 10,
   "metadata": {},
   "outputs": [],
   "source": [
    "correlation<- function(X, Y, alpha){\n",
    "  n= length(X)\n",
    "  rho= cor(X, Y)\n",
    "  z <- 1/2*log((1+rho)/(1-rho))\n",
    "  if (abs(z)*sqrt(n-3)> qnorm(1-alpha/2)){\n",
    "    result<-0\n",
    "  } else{\n",
    "    result<-1\n",
    "  }\n",
    "  result\n",
    "}\n",
    "\n",
    "partial_correlation <- function(X, Y, Z, alpha){\n",
    "  if (class(Z)== 'matrix'){\n",
    "    m<- dim(Z)[2];\n",
    "    n<- dim(Z)[1]; \n",
    "  } else{\n",
    "    n <- length(Z)\n",
    "    m<-1\n",
    "  } \n",
    "  mm1 <- lm(X~Z)\n",
    "  res1 <- mm1$residuals\n",
    "  mm2 <- lm(Y~Z)\n",
    "  res2 <- mm2$residuals\n",
    "  rho <- cor(res1,res2)\n",
    "  z <- 1/2*log((1+rho)/(1-rho))\n",
    "  if (abs(z)*sqrt(n-m-3)> qnorm(1-alpha/2)){\n",
    "    result<-0\n",
    "  } else{\n",
    "    result<-1\n",
    "  }\n",
    "  result\n",
    "}"
   ]
  },
  {
   "cell_type": "code",
   "execution_count": 11,
   "metadata": {
    "scrolled": false
   },
   "outputs": [
    {
     "name": "stderr",
     "output_type": "stream",
     "text": [
      "\n",
      "Attaching package: 'CombMSC'\n",
      "\n",
      "\n",
      "The following object is masked from 'package:stats':\n",
      "\n",
      "    BIC\n",
      "\n",
      "\n"
     ]
    },
    {
     "name": "stdout",
     "output_type": "stream",
     "text": [
      "     [,1] [,2] [,3]\n",
      "[1,]    1    1    1\n",
      "[2,]    1    1    0\n",
      "[3,]    1    1    1\n",
      "                        [,1]\n",
      "(Intercept)       0.97251553\n",
      "myX[, indices]V1  0.20172953\n",
      "myX[, indices]V2 -0.06971603\n",
      "myX[, indices]V3  0.50486260\n",
      "[1]  0.20172953 -0.06971603  0.50486260\n",
      "                       [,1]\n",
      "(Intercept)       0.9672608\n",
      "myX[, indices]V1 -0.3791335\n",
      "myX[, indices]V2  0.2413680\n",
      "[1] -0.3791335  0.2413680\n",
      "                        [,1]\n",
      "(Intercept)      -0.08553238\n",
      "myX[, indices]V1 -0.09124049\n",
      "myX[, indices]V2  0.29407473\n",
      "myX[, indices]V3  0.30801015\n",
      "[1] -0.09124049  0.29407473  0.30801015\n"
     ]
    },
    {
     "data": {
      "text/html": [
       "<table>\n",
       "<caption>A matrix: 3 × 3 of type dbl</caption>\n",
       "<tbody>\n",
       "\t<tr><td> 0.20172953</td><td>-0.06971603</td><td>0.5048626</td></tr>\n",
       "\t<tr><td>-0.37913354</td><td> 0.24136804</td><td>0.0000000</td></tr>\n",
       "\t<tr><td>-0.09124049</td><td> 0.29407473</td><td>0.3080101</td></tr>\n",
       "</tbody>\n",
       "</table>\n"
      ],
      "text/latex": [
       "A matrix: 3 × 3 of type dbl\n",
       "\\begin{tabular}{lll}\n",
       "\t  0.20172953 & -0.06971603 & 0.5048626\\\\\n",
       "\t -0.37913354 &  0.24136804 & 0.0000000\\\\\n",
       "\t -0.09124049 &  0.29407473 & 0.3080101\\\\\n",
       "\\end{tabular}\n"
      ],
      "text/markdown": [
       "\n",
       "A matrix: 3 × 3 of type dbl\n",
       "\n",
       "|  0.20172953 | -0.06971603 | 0.5048626 |\n",
       "| -0.37913354 |  0.24136804 | 0.0000000 |\n",
       "| -0.09124049 |  0.29407473 | 0.3080101 |\n",
       "\n"
      ],
      "text/plain": [
       "     [,1]        [,2]        [,3]     \n",
       "[1,]  0.20172953 -0.06971603 0.5048626\n",
       "[2,] -0.37913354  0.24136804 0.0000000\n",
       "[3,] -0.09124049  0.29407473 0.3080101"
      ]
     },
     "metadata": {},
     "output_type": "display_data"
    }
   ],
   "source": [
    "library(CombMSC)\n",
    "PC_timeseries <- function(data, a){\n",
    "    L= dim(data)[1]; \n",
    "    m= dim(data)[2];\n",
    "    \n",
    "    myX<- data[1:L-1, ];\n",
    "    myY<- data[2:L  , ];\n",
    "\n",
    "    X<- cbind(myX, myY);\n",
    "    n<- dim(X)[2]\n",
    "    \n",
    "    zeros= matrix(0, nrow= m, ncol = m);\n",
    "    ones=  matrix(1, nrow= m, ncol = m);\n",
    "    \n",
    "    m1= cbind(zeros, ones);\n",
    "    m2= cbind(ones, zeros);\n",
    "    \n",
    "    adjacency<- rbind(m1, m2)\n",
    "    l<-0\n",
    "    repeat{\n",
    "      for (i in c(1:n)){\n",
    "        if (vertex_degree(adjacency, i)<l+1){\n",
    "          next\n",
    "        }\n",
    "        for (j in which(adjacency[i, ]!= 0)){\n",
    "          if(l==0){\n",
    "            if (correlation(X[, i], X[, j], alpha= a)==1){\n",
    "              adjacency<- delete_edge(adjacency, i, j)\n",
    "            }\n",
    "          } else{\n",
    "            if (j<n){   \n",
    "              sets<- cbind(t(which(adjacency[i, 1:j-1]!=0)), t(which(adjacency[i,(j+1):n]!=0)+j))\n",
    "            } else{\n",
    "              sets<- which(adjacency[i, 1:n-1]!=0)\n",
    "            }\n",
    "            d<- length(sets)\n",
    "            subs= subsets(d, l, sets)\n",
    "            if (class(subs)== 'matrix'){\n",
    "              k= dim(subs)[1]\n",
    "              for (p in 1:k){\n",
    "                index= subs[p, ]\n",
    "                if (partial_correlation(X[, i], X[, j], X[ ,index], alpha= a)==1){\n",
    "                  adjacency<- delete_edge(adjacency, i, j)\n",
    "                  break\n",
    "                }\n",
    "              }\n",
    "            } else{\n",
    "              if (partial_correlation(X[, i], X[, j], X[, subs], alpha= a)==1){\n",
    "                  adjacency<- delete_edge(adjacency, i, j)\n",
    "                  break\n",
    "              }  \n",
    "            }\n",
    "          }\n",
    "        }\n",
    "      }\n",
    "      l<- l+1\n",
    "      if (total_degree(adjacency)<l+1){\n",
    "        break\n",
    "      }\n",
    "    }\n",
    "\n",
    "    adjacency<- t(adjacency[1:(n/2), (n/2+1):n])\n",
    "    print(adjacency)\n",
    "    \n",
    "    for (j in c(1:m)){\n",
    "        indices= which(adjacency[j, ]!= 0)\n",
    "        mdl1<- lm(myY[ ,c(j)]~ myX[,indices]);\n",
    "        coeff<- as.matrix(coef(mdl1))\n",
    "        print(coeff)\n",
    "        coeff<- coeff[2: (dim(coeff)[1])]\n",
    "        print(coeff);\n",
    "        adjacency[j, ]= filling(m, indices, coeff)\n",
    "    }\n",
    "    adjacency\n",
    "}\n",
    "\n",
    "PC_timeseries(X, 0.35)"
   ]
  },
  {
   "cell_type": "markdown",
   "metadata": {},
   "source": [
    "#### For FIC we know that finding the skeleton is similar to PC"
   ]
  },
  {
   "cell_type": "markdown",
   "metadata": {},
   "source": [
    "For LINGAM I used pcalg package"
   ]
  },
  {
   "cell_type": "code",
   "execution_count": 10,
   "metadata": {},
   "outputs": [
    {
     "data": {
      "text/html": [
       "<ol class=list-inline>\n",
       "\t<li>999</li>\n",
       "\t<li>6</li>\n",
       "</ol>\n"
      ],
      "text/latex": [
       "\\begin{enumerate*}\n",
       "\\item 999\n",
       "\\item 6\n",
       "\\end{enumerate*}\n"
      ],
      "text/markdown": [
       "1. 999\n",
       "2. 6\n",
       "\n",
       "\n"
      ],
      "text/plain": [
       "[1] 999   6"
      ]
     },
     "metadata": {},
     "output_type": "display_data"
    },
    {
     "data": {
      "text/html": [
       "<table>\n",
       "<caption>A matrix: 6 × 6 of type dbl</caption>\n",
       "<tbody>\n",
       "\t<tr><td> 0.0000000</td><td>0.0000000</td><td> 0.000000</td><td> 0.000000</td><td>0</td><td>0.000000</td></tr>\n",
       "\t<tr><td> 0.6166413</td><td>0.0000000</td><td> 1.516754</td><td>-3.518902</td><td>0</td><td>1.133455</td></tr>\n",
       "\t<tr><td> 0.0000000</td><td>0.0000000</td><td> 0.000000</td><td> 1.288400</td><td>0</td><td>0.000000</td></tr>\n",
       "\t<tr><td> 0.6623427</td><td>0.0000000</td><td> 0.000000</td><td> 0.000000</td><td>0</td><td>0.000000</td></tr>\n",
       "\t<tr><td>-0.5462593</td><td>0.3216296</td><td> 0.000000</td><td> 0.000000</td><td>0</td><td>0.000000</td></tr>\n",
       "\t<tr><td>-0.8699925</td><td>0.0000000</td><td>-1.019866</td><td> 2.803620</td><td>0</td><td>0.000000</td></tr>\n",
       "</tbody>\n",
       "</table>\n"
      ],
      "text/latex": [
       "A matrix: 6 × 6 of type dbl\n",
       "\\begin{tabular}{llllll}\n",
       "\t  0.0000000 & 0.0000000 &  0.000000 &  0.000000 & 0 & 0.000000\\\\\n",
       "\t  0.6166413 & 0.0000000 &  1.516754 & -3.518902 & 0 & 1.133455\\\\\n",
       "\t  0.0000000 & 0.0000000 &  0.000000 &  1.288400 & 0 & 0.000000\\\\\n",
       "\t  0.6623427 & 0.0000000 &  0.000000 &  0.000000 & 0 & 0.000000\\\\\n",
       "\t -0.5462593 & 0.3216296 &  0.000000 &  0.000000 & 0 & 0.000000\\\\\n",
       "\t -0.8699925 & 0.0000000 & -1.019866 &  2.803620 & 0 & 0.000000\\\\\n",
       "\\end{tabular}\n"
      ],
      "text/markdown": [
       "\n",
       "A matrix: 6 × 6 of type dbl\n",
       "\n",
       "|  0.0000000 | 0.0000000 |  0.000000 |  0.000000 | 0 | 0.000000 |\n",
       "|  0.6166413 | 0.0000000 |  1.516754 | -3.518902 | 0 | 1.133455 |\n",
       "|  0.0000000 | 0.0000000 |  0.000000 |  1.288400 | 0 | 0.000000 |\n",
       "|  0.6623427 | 0.0000000 |  0.000000 |  0.000000 | 0 | 0.000000 |\n",
       "| -0.5462593 | 0.3216296 |  0.000000 |  0.000000 | 0 | 0.000000 |\n",
       "| -0.8699925 | 0.0000000 | -1.019866 |  2.803620 | 0 | 0.000000 |\n",
       "\n"
      ],
      "text/plain": [
       "     [,1]       [,2]      [,3]      [,4]      [,5] [,6]    \n",
       "[1,]  0.0000000 0.0000000  0.000000  0.000000 0    0.000000\n",
       "[2,]  0.6166413 0.0000000  1.516754 -3.518902 0    1.133455\n",
       "[3,]  0.0000000 0.0000000  0.000000  1.288400 0    0.000000\n",
       "[4,]  0.6623427 0.0000000  0.000000  0.000000 0    0.000000\n",
       "[5,] -0.5462593 0.3216296  0.000000  0.000000 0    0.000000\n",
       "[6,] -0.8699925 0.0000000 -1.019866  2.803620 0    0.000000"
      ]
     },
     "metadata": {},
     "output_type": "display_data"
    },
    {
     "data": {
      "text/html": [
       "<table>\n",
       "<caption>A matrix: 3 × 3 of type dbl</caption>\n",
       "<tbody>\n",
       "\t<tr><td> 0.6623427</td><td>0.0000000</td><td> 0.000000</td></tr>\n",
       "\t<tr><td>-0.5462593</td><td>0.3216296</td><td> 0.000000</td></tr>\n",
       "\t<tr><td>-0.8699925</td><td>0.0000000</td><td>-1.019866</td></tr>\n",
       "</tbody>\n",
       "</table>\n"
      ],
      "text/latex": [
       "A matrix: 3 × 3 of type dbl\n",
       "\\begin{tabular}{lll}\n",
       "\t  0.6623427 & 0.0000000 &  0.000000\\\\\n",
       "\t -0.5462593 & 0.3216296 &  0.000000\\\\\n",
       "\t -0.8699925 & 0.0000000 & -1.019866\\\\\n",
       "\\end{tabular}\n"
      ],
      "text/markdown": [
       "\n",
       "A matrix: 3 × 3 of type dbl\n",
       "\n",
       "|  0.6623427 | 0.0000000 |  0.000000 |\n",
       "| -0.5462593 | 0.3216296 |  0.000000 |\n",
       "| -0.8699925 | 0.0000000 | -1.019866 |\n",
       "\n"
      ],
      "text/plain": [
       "     [,1]       [,2]      [,3]     \n",
       "[1,]  0.6623427 0.0000000  0.000000\n",
       "[2,] -0.5462593 0.3216296  0.000000\n",
       "[3,] -0.8699925 0.0000000 -1.019866"
      ]
     },
     "metadata": {},
     "output_type": "display_data"
    }
   ],
   "source": [
    "library(pcalg)\n",
    "L= dim(X)[1]; \n",
    "m= dim(X)[2];\n",
    "myX<- X[1:L-1, ];\n",
    "myY<- X[2:L  , ];\n",
    "data<- cbind(myX, myY);\n",
    "n<- dim(data)[2]\n",
    "dim(data)\n",
    "\n",
    "res1 <- lingam(data, verbose = FALSE);\n",
    "\n",
    "total= res1$Bpruned; total\n",
    "Lingam_weights= total[(n/2+1):n, 1:(n/2)]; Lingam_weights"
   ]
  },
  {
   "cell_type": "markdown",
   "metadata": {},
   "source": [
    "### Part 2:\n",
    "It's trivial that LINGAM is terrible beacuse it doesn't know anything about the time series!\n",
    "between Granger and PC, I prefer to use PC, beacuse the threshold for Granger was seriously High!"
   ]
  },
  {
   "cell_type": "markdown",
   "metadata": {},
   "source": [
    "### Part 3:\n",
    "By using PC:"
   ]
  },
  {
   "cell_type": "code",
   "execution_count": 13,
   "metadata": {},
   "outputs": [
    {
     "name": "stdout",
     "output_type": "stream",
     "text": [
      "     [,1] [,2] [,3]\n",
      "[1,]    1    0    1\n",
      "[2,]    1    1    0\n",
      "[3,]    1    1    1\n",
      "                      [,1]\n",
      "(Intercept)      0.7941079\n",
      "myX[, indices]V1 0.9322860\n",
      "myX[, indices]V3 0.8925001\n",
      "[1] 0.9322860 0.8925001\n",
      "                        [,1]\n",
      "(Intercept)       1.06950543\n",
      "myX[, indices]V1 -0.18929479\n",
      "myX[, indices]V2  0.07264126\n",
      "[1] -0.18929479  0.07264126\n",
      "                        [,1]\n",
      "(Intercept)       0.04462369\n",
      "myX[, indices]V1 -0.50525479\n",
      "myX[, indices]V2  0.76810749\n",
      "myX[, indices]V3 -0.39815088\n",
      "[1] -0.5052548  0.7681075 -0.3981509\n"
     ]
    },
    {
     "data": {
      "text/html": [
       "<table>\n",
       "<caption>A matrix: 3 × 3 of type dbl</caption>\n",
       "<tbody>\n",
       "\t<tr><td> 0.9322860</td><td>0.00000000</td><td> 0.8925001</td></tr>\n",
       "\t<tr><td>-0.1892948</td><td>0.07264126</td><td> 0.0000000</td></tr>\n",
       "\t<tr><td>-0.5052548</td><td>0.76810749</td><td>-0.3981509</td></tr>\n",
       "</tbody>\n",
       "</table>\n"
      ],
      "text/latex": [
       "A matrix: 3 × 3 of type dbl\n",
       "\\begin{tabular}{lll}\n",
       "\t  0.9322860 & 0.00000000 &  0.8925001\\\\\n",
       "\t -0.1892948 & 0.07264126 &  0.0000000\\\\\n",
       "\t -0.5052548 & 0.76810749 & -0.3981509\\\\\n",
       "\\end{tabular}\n"
      ],
      "text/markdown": [
       "\n",
       "A matrix: 3 × 3 of type dbl\n",
       "\n",
       "|  0.9322860 | 0.00000000 |  0.8925001 |\n",
       "| -0.1892948 | 0.07264126 |  0.0000000 |\n",
       "| -0.5052548 | 0.76810749 | -0.3981509 |\n",
       "\n"
      ],
      "text/plain": [
       "     [,1]       [,2]       [,3]      \n",
       "[1,]  0.9322860 0.00000000  0.8925001\n",
       "[2,] -0.1892948 0.07264126  0.0000000\n",
       "[3,] -0.5052548 0.76810749 -0.3981509"
      ]
     },
     "metadata": {},
     "output_type": "display_data"
    }
   ],
   "source": [
    "Xp= read.delim(\"model02.txt\", header = FALSE, sep = \",\");\n",
    "Xp= as.matrix(Xp)\n",
    "\n",
    "PC_timeseries(Xp, 0.35)"
   ]
  },
  {
   "cell_type": "markdown",
   "metadata": {},
   "source": [
    "by high probability, the weights are these:\n",
    "(0.9, 0, 0.9;\n",
    "-0.2, 0.1, 0;\n",
    "-0.5, 0.8, -0.4)"
   ]
  },
  {
   "cell_type": "markdown",
   "metadata": {},
   "source": [
    "## Problem 2:"
   ]
  },
  {
   "cell_type": "markdown",
   "metadata": {},
   "source": [
    "I just implemented what the algorithm said!"
   ]
  },
  {
   "cell_type": "code",
   "execution_count": 1,
   "metadata": {},
   "outputs": [],
   "source": [
    "ChainCom<- function(U, v){\n",
    "    n= dim(U)[1]\n",
    "    A= c(v);\n",
    "    B= c(1:n); B= B[!B %in% A];\n",
    "    G= U; \n",
    "    O= c();\n",
    "    l=1;\n",
    "    while (length(B)!= 0){\n",
    "        print(\"Hi!\")\n",
    "        T= c();\n",
    "        for (j in A){\n",
    "            for (k in which(G[j, ]==1)){\n",
    "                 if ((!k %in% T) && (k %in% B) ){\n",
    "                     T= c(T, k);\n",
    "                 }\n",
    "            }\n",
    "        }\n",
    "        for (j in A){\n",
    "            for (k in which(G[j, ]==1)){\n",
    "                 if (k %in% T){\n",
    "                     G[j, k]=2;\n",
    "                     G[k, j]=3;\n",
    "                 }\n",
    "            }\n",
    "        }\n",
    "        repeat{\n",
    "            print(\"Hello!\")\n",
    "            Gp= G;\n",
    "            for (i in T){\n",
    "                for(j in T){\n",
    "                    if(Gp[i, j]==1){\n",
    "                        for (k in c(1:n)){\n",
    "                            if(Gp[k, i]==2 && Gp[k, j]==0){\n",
    "                                Gp[i, j]=2;\n",
    "                                Gp[j, i]=3;\n",
    "                                break;\n",
    "                            }\n",
    "                        }\n",
    "                    }\n",
    "                }\n",
    "            }\n",
    "            if (all(Gp==G)){\n",
    "                break\n",
    "            }\n",
    "            G= Gp;\n",
    "        }\n",
    "        A= T;\n",
    "        B= setdiff(B, T);\n",
    "        isolated= c();\n",
    "        for (i in T){\n",
    "            for(j in T){\n",
    "                if(G[i, j]==1){\n",
    "                    s= c(i, j);\n",
    "                    isolated= union(isolated, s);\n",
    "                }\n",
    "            }\n",
    "        }\n",
    "        if(length(isolated)!= 0){\n",
    "            set= G[isolated, isolated];\n",
    "            O[[l]]= set;\n",
    "            l<- l+1;\n",
    "        }\n",
    "        print(A)\n",
    "        print(B)\n",
    "        print(G)\n",
    "        print(O)\n",
    "    }\n",
    "    list(G, O)\n",
    "}\n",
    "\n",
    "SizeMEC<- function(U){\n",
    "    print(\"Disease!\")\n",
    "    p= dim(U)[1];\n",
    "    n= sum(U)/2;\n",
    "    if (n== (p-1)){\n",
    "        r<- p;\n",
    "    } else if (n== p){\n",
    "        r<- 2*p;\n",
    "    } else if (n== (p*(p-1)/2 -2)){\n",
    "        r<- (p**2-p-4)*factorial(p-3);\n",
    "    } else if (n== (p*(p-1)/2 -1)){\n",
    "        r<- 2*factorial(p-1)- factorial(p-2);\n",
    "    } else if (n== (p*(p-1)/2)){\n",
    "        r<- factorial(p);\n",
    "    } else{\n",
    "        print(\"You!\")\n",
    "        Sum=0\n",
    "        for (i in c(1:p)){\n",
    "            O= ChainCom(U, i)[[2]];\n",
    "            s=1\n",
    "            for (j in c(1: length(O))){\n",
    "                s= s*SizeMEC(O[[j]]);\n",
    "            }\n",
    "            Sum= Sum+s;\n",
    "        }\n",
    "        r<- Sum;\n",
    "    }\n",
    "    r\n",
    "}"
   ]
  },
  {
   "cell_type": "markdown",
   "metadata": {},
   "source": [
    "For the example 2 of original paper, I used my implementaton and it gives the right results!"
   ]
  },
  {
   "cell_type": "code",
   "execution_count": 2,
   "metadata": {
    "scrolled": false
   },
   "outputs": [
    {
     "name": "stdout",
     "output_type": "stream",
     "text": [
      "[1] \"Disease!\"\n",
      "[1] \"You!\"\n",
      "[1] \"Hi!\"\n",
      "[1] \"Hello!\"\n",
      "[1] 2 3\n",
      "[1] 4 5\n",
      "     [,1] [,2] [,3] [,4] [,5]\n",
      "[1,]    0    2    2    0    0\n",
      "[2,]    3    0    1    1    1\n",
      "[3,]    3    1    0    0    1\n",
      "[4,]    0    1    0    0    1\n",
      "[5,]    0    1    1    1    0\n",
      "[[1]]\n",
      "     [,1] [,2]\n",
      "[1,]    0    1\n",
      "[2,]    1    0\n",
      "\n",
      "[1] \"Hi!\"\n",
      "[1] \"Hello!\"\n",
      "[1] \"Hello!\"\n",
      "[1] 4 5\n",
      "integer(0)\n",
      "     [,1] [,2] [,3] [,4] [,5]\n",
      "[1,]    0    2    2    0    0\n",
      "[2,]    3    0    1    2    2\n",
      "[3,]    3    1    0    0    2\n",
      "[4,]    0    3    0    0    3\n",
      "[5,]    0    3    3    2    0\n",
      "[[1]]\n",
      "     [,1] [,2]\n",
      "[1,]    0    1\n",
      "[2,]    1    0\n",
      "\n",
      "[1] \"Disease!\"\n",
      "[1] \"Hi!\"\n",
      "[1] \"Hello!\"\n",
      "[1] 1 3 4 5\n",
      "integer(0)\n",
      "     [,1] [,2] [,3] [,4] [,5]\n",
      "[1,]    0    3    1    0    0\n",
      "[2,]    2    0    2    2    2\n",
      "[3,]    1    3    0    0    1\n",
      "[4,]    0    3    0    0    1\n",
      "[5,]    0    3    1    1    0\n",
      "[[1]]\n",
      "     [,1] [,2] [,3] [,4]\n",
      "[1,]    0    1    0    0\n",
      "[2,]    1    0    1    0\n",
      "[3,]    0    1    0    1\n",
      "[4,]    0    0    1    0\n",
      "\n",
      "[1] \"Disease!\"\n",
      "[1] \"Hi!\"\n",
      "[1] \"Hello!\"\n",
      "[1] 1 2 5\n",
      "[1] 4\n",
      "     [,1] [,2] [,3] [,4] [,5]\n",
      "[1,]    0    1    3    0    0\n",
      "[2,]    1    0    3    1    1\n",
      "[3,]    2    2    0    0    2\n",
      "[4,]    0    1    0    0    1\n",
      "[5,]    0    1    3    1    0\n",
      "[[1]]\n",
      "     [,1] [,2] [,3]\n",
      "[1,]    0    1    0\n",
      "[2,]    1    0    1\n",
      "[3,]    0    1    0\n",
      "\n",
      "[1] \"Hi!\"\n",
      "[1] \"Hello!\"\n",
      "[1] 4\n",
      "integer(0)\n",
      "     [,1] [,2] [,3] [,4] [,5]\n",
      "[1,]    0    1    3    0    0\n",
      "[2,]    1    0    3    2    1\n",
      "[3,]    2    2    0    0    2\n",
      "[4,]    0    3    0    0    3\n",
      "[5,]    0    1    3    2    0\n",
      "[[1]]\n",
      "     [,1] [,2] [,3]\n",
      "[1,]    0    1    0\n",
      "[2,]    1    0    1\n",
      "[3,]    0    1    0\n",
      "\n",
      "[1] \"Disease!\"\n",
      "[1] \"Hi!\"\n",
      "[1] \"Hello!\"\n",
      "[1] 2 5\n",
      "[1] 1 3\n",
      "     [,1] [,2] [,3] [,4] [,5]\n",
      "[1,]    0    1    1    0    0\n",
      "[2,]    1    0    1    3    1\n",
      "[3,]    1    1    0    0    1\n",
      "[4,]    0    2    0    0    2\n",
      "[5,]    0    1    1    3    0\n",
      "[[1]]\n",
      "     [,1] [,2]\n",
      "[1,]    0    1\n",
      "[2,]    1    0\n",
      "\n",
      "[1] \"Hi!\"\n",
      "[1] \"Hello!\"\n",
      "[1] \"Hello!\"\n",
      "[1] 1 3\n",
      "integer(0)\n",
      "     [,1] [,2] [,3] [,4] [,5]\n",
      "[1,]    0    3    3    0    0\n",
      "[2,]    2    0    2    3    1\n",
      "[3,]    2    3    0    0    3\n",
      "[4,]    0    2    0    0    2\n",
      "[5,]    0    1    2    3    0\n",
      "[[1]]\n",
      "     [,1] [,2]\n",
      "[1,]    0    1\n",
      "[2,]    1    0\n",
      "\n",
      "[1] \"Disease!\"\n",
      "[1] \"Hi!\"\n",
      "[1] \"Hello!\"\n",
      "[1] 2 3 4\n",
      "[1] 1\n",
      "     [,1] [,2] [,3] [,4] [,5]\n",
      "[1,]    0    1    1    0    0\n",
      "[2,]    1    0    1    1    3\n",
      "[3,]    1    1    0    0    3\n",
      "[4,]    0    1    0    0    3\n",
      "[5,]    0    2    2    2    0\n",
      "[[1]]\n",
      "     [,1] [,2] [,3]\n",
      "[1,]    0    1    1\n",
      "[2,]    1    0    0\n",
      "[3,]    1    0    0\n",
      "\n",
      "[1] \"Hi!\"\n",
      "[1] \"Hello!\"\n",
      "[1] 1\n",
      "integer(0)\n",
      "     [,1] [,2] [,3] [,4] [,5]\n",
      "[1,]    0    3    3    0    0\n",
      "[2,]    2    0    1    1    3\n",
      "[3,]    2    1    0    0    3\n",
      "[4,]    0    1    0    0    3\n",
      "[5,]    0    2    2    2    0\n",
      "[[1]]\n",
      "     [,1] [,2] [,3]\n",
      "[1,]    0    1    1\n",
      "[2,]    1    0    0\n",
      "[3,]    1    0    0\n",
      "\n",
      "[1] \"Disease!\"\n"
     ]
    },
    {
     "data": {
      "text/html": [
       "14"
      ],
      "text/latex": [
       "14"
      ],
      "text/markdown": [
       "14"
      ],
      "text/plain": [
       "[1] 14"
      ]
     },
     "metadata": {},
     "output_type": "display_data"
    }
   ],
   "source": [
    "U = matrix(c(0,1,1,0,0, 1,0,1,1,1, 1,1,0,0,1, 0,1,0,0,1, 0,1,1,1,0), nrow= 5, ncol= 5, byrow= TRUE);\n",
    "SizeMEC(U)"
   ]
  },
  {
   "cell_type": "markdown",
   "metadata": {},
   "source": [
    "14 is the right answer!"
   ]
  },
  {
   "cell_type": "markdown",
   "metadata": {},
   "source": [
    "### Problem 7 of HW#3-theory"
   ]
  },
  {
   "cell_type": "markdown",
   "metadata": {},
   "source": [
    "I implemented the same as part of this HW1"
   ]
  },
  {
   "cell_type": "code",
   "execution_count": 36,
   "metadata": {},
   "outputs": [],
   "source": [
    "n=1000\n",
    "X= matrix(c(rnorm(1, 0, 1), rnorm(1, 0, 1), rnorm(1, 0, 1)), nrow=1, ncol=3);\n",
    "X= rbind(X, c(8*X[1, 2]+ rnorm(1, 0, 1), rnorm(1, 0, 1), rnorm(1, 0, 1)))\n",
    "for (t in c(3:n)){\n",
    "    X= rbind(X, c(8*X[t-1, 2]+ rnorm(1, 0, 1), rnorm(1, 0, 1), 10*X[t-2, 2]+ rnorm(1, 0, 1)))\n",
    "}"
   ]
  },
  {
   "cell_type": "code",
   "execution_count": null,
   "metadata": {},
   "outputs": [],
   "source": []
  },
  {
   "cell_type": "code",
   "execution_count": null,
   "metadata": {},
   "outputs": [],
   "source": []
  }
 ],
 "metadata": {
  "kernelspec": {
   "display_name": "R 3.6",
   "language": "R",
   "name": "ir36"
  },
  "language_info": {
   "codemirror_mode": "r",
   "file_extension": ".r",
   "mimetype": "text/x-r-source",
   "name": "R",
   "pygments_lexer": "r",
   "version": "3.6.1"
  }
 },
 "nbformat": 4,
 "nbformat_minor": 2
}
