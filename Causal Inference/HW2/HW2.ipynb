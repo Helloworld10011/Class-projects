{
 "cells": [
  {
   "cell_type": "markdown",
   "metadata": {},
   "source": [
    "# HW2\n",
    "## Mahdi Sabbaghi(95109123)"
   ]
  },
  {
   "cell_type": "markdown",
   "metadata": {},
   "source": [
    "# Part 1(PC Algtorithm):\n"
   ]
  },
  {
   "cell_type": "markdown",
   "metadata": {},
   "source": [
    "At first, I've write some functions to help. Three functions for yielding the degree of a graph by the adjacency matrix(max degrree of vertices, degree of a vertex, and for delete a edge(make two elements zero in adjacency matrix)"
   ]
  },
  {
   "cell_type": "code",
   "execution_count": 1,
   "metadata": {},
   "outputs": [],
   "source": [
    "total_degree <- function(m){\n",
    "  n= dim(m)[1]\n",
    "  max=0 \n",
    "  for (i in c(1:n)){\n",
    "      s= sum(m[i, ])\n",
    "      if (s>max){\n",
    "          max= s\n",
    "      }\n",
    "  }\n",
    "  max\n",
    "}\n",
    "vertex_degree <- function(m, i){\n",
    "  s= sum(m[i, ])\n",
    "  s\n",
    "}\n",
    "delete_edge <- function(m, i, j){\n",
    "  m[i, j]<-0\n",
    "  m[j, i]<-0\n",
    "  m\n",
    "}"
   ]
  },
  {
   "cell_type": "markdown",
   "metadata": {},
   "source": [
    "Then I define \"correlation\" function for \"pearson\" test and \"partial_correlation\". we now that by Fisher's Z transform:\n",
    "$$z= \\frac{1}{2} \\log{ \\frac{1+\\rho} {1- \\rho}}$$\n",
    "and then:\n",
    "$$ z \\sqrt{n-m-3} \\sim N(0, 1)$$\n",
    "where n is the nuber of samples and m is the number of conditioned vectors.\n",
    "so I used qnorm to have significance level of $\\alpha$, (alpha in the code)\n",
    "Note that because I have some problems for determining the v-structures I've defined print-correlation to find out which set makes a better d-separation."
   ]
  },
  {
   "cell_type": "code",
   "execution_count": 29,
   "metadata": {},
   "outputs": [],
   "source": [
    "correlation<- function(X, Y, alpha){\n",
    "  n= length(X)\n",
    "  rho= cor(X, Y)\n",
    "  z <- 1/2*log((1+rho)/(1-rho))\n",
    "  if (abs(z)*sqrt(n-3)> qnorm(1-alpha/2)){\n",
    "    result<-0\n",
    "  } else{\n",
    "    result<-1\n",
    "  }\n",
    "  result\n",
    "}\n",
    "\n",
    "partial_correlation <- function(X, Y, Z, alpha){\n",
    "  if (class(Z)== 'matrix'){\n",
    "    m<- dim(Z)[2];\n",
    "    n<- dim(Z)[1]; \n",
    "  } else{\n",
    "    n <- length(Z)\n",
    "    m<-1\n",
    "  } \n",
    "  mm1 <- lm(X~Z)\n",
    "  res1 <- mm1$residuals\n",
    "  mm2 <- lm(Y~Z)\n",
    "  res2 <- mm2$residuals\n",
    "  rho <- cor(res1,res2)\n",
    "  z <- 1/2*log((1+rho)/(1-rho))\n",
    "  if (abs(z)*sqrt(n-m-3)> qnorm(1-alpha/2)){\n",
    "    result<-0\n",
    "  } else{\n",
    "    result<-1\n",
    "  }\n",
    "  result\n",
    "}\n",
    "\n",
    "print_correlation <- function(X, Y, Z){\n",
    "  if (class(Z)== 'matrix'){\n",
    "    m<- dim(Z)[2];\n",
    "    n<- dim(Z)[1]; \n",
    "  } else{\n",
    "    n <- length(Z)\n",
    "    m<-1\n",
    "  } \n",
    "  mm1 <- lm(X~Z)\n",
    "  res1 <- mm1$residuals\n",
    "  mm2 <- lm(Y~Z)\n",
    "  res2 <- mm2$residuals\n",
    "  rho <- cor(res1,res2)\n",
    "  z <- 1/2*log((1+rho)/(1-rho))\n",
    "  result<- (abs(z)*sqrt(n-m-3))\n",
    "  result\n",
    "}\n"
   ]
  },
  {
   "cell_type": "markdown",
   "metadata": {},
   "source": [
    "The \"v_adjacency\" have two major parts. In the first part, it considers a fully connected graph and determines the skeleton by checking every two nodes, whether they can be d-seperated by the neighbours or not.\n",
    "In the second part, it searches for \"unshielded triples: $(i, j ,k)$\" and checking what causes the $i$ and $k$ to be detached(the problem was that some there were some unwanted sets that seperates the nodes! so instead of significant level I've chosen the set with the least $z \\sqrt{n- m -3}$!) and then checking whether $j$ is in the set or not:\n",
    "this function outputs two matrices, first the adjacency matrix of skeleton, and skleton with v-structures, two show it in $Mat[i, j]=2$ when we have an edge $i \\to j$ and $Mat[i, j]=3$ when $j \\to i$."
   ]
  },
  {
   "cell_type": "code",
   "execution_count": 92,
   "metadata": {
    "scrolled": false
   },
   "outputs": [],
   "source": [
    "library(CombMSC)\n",
    "library(ppcor)\n",
    "\n",
    "v_adjacency<- function(X, pval, a){\n",
    "    L<- dim(X)[1]\n",
    "    n<- dim(X)[2]\n",
    "    adjacency<- matrix(1, nrow= n, ncol = n)- diag(1, n)\n",
    "    l<-0\n",
    "    repeat{\n",
    "      for (i in c(1:n)){\n",
    "        if (vertex_degree(adjacency, i)<l+1){\n",
    "          next\n",
    "        }\n",
    "        for (j in which(adjacency[i, ]!= 0)){\n",
    "          if(l==0){\n",
    "            if (correlation(X[, i], X[, j], alpha= a)==1){\n",
    "              adjacency<- delete_edge(adjacency, i, j)\n",
    "            }\n",
    "          } else{\n",
    "            if (j<n){   \n",
    "              sets<- cbind(t(which(adjacency[i, 1:j-1]!=0)), t(which(adjacency[i,(j+1):n]!=0)+j))\n",
    "            } else{\n",
    "              sets<- which(adjacency[i, 1:n-1]!=0)\n",
    "            }\n",
    "            d<- length(sets)\n",
    "            subs= subsets(d, l, sets)\n",
    "            if (class(subs)== 'matrix'){\n",
    "              k= dim(subs)[1]\n",
    "              for (p in 1:k){\n",
    "                index= subs[p, ]\n",
    "                if (partial_correlation(X[, i], X[, j], X[ ,index], alpha= a)==1){\n",
    "                  adjacency<- delete_edge(adjacency, i, j)\n",
    "                  break\n",
    "                }\n",
    "              }\n",
    "            } else{\n",
    "              if (partial_correlation(X[, i], X[, j], X[, subs], alpha= a)==1){\n",
    "                  adjacency<- delete_edge(adjacency, i, j)\n",
    "                  break\n",
    "              }  \n",
    "            }\n",
    "          }\n",
    "        }\n",
    "      }\n",
    "      l<- l+1\n",
    "      if (total_degree(adjacency)<l+1){\n",
    "        break\n",
    "      }\n",
    "    }\n",
    "\n",
    "    adj_v= adjacency\n",
    "\n",
    "    for (i in c(1:n)){\n",
    "        for (j in which(adjacency[i, ]!= 0)){\n",
    "            for (k in which(adjacency[j, ]!= 0)){\n",
    "                if (k!= i & adjacency[i, k]==0){\n",
    "                    l=0\n",
    "                    repeat{\n",
    "                        if(l==0){\n",
    "                            if (correlation(X[, i], X[, k], alpha= a)==1){\n",
    "                                set= c()\n",
    "                                break\n",
    "                            }\n",
    "                            } else{\n",
    "                                min_sig=100\n",
    "                                if (k<n){   \n",
    "                                    sets<- cbind(t(which(adjacency[i, 1:k-1]!=0)), t(which(adjacency[i,(k+1):n]!=0)+k))\n",
    "                                } else{\n",
    "                                sets<- which(adjacency[i, 1:n-1]!=0)\n",
    "                                }\n",
    "                                d<- length(sets)\n",
    "                                subs= subsets(d, l, sets)\n",
    "                                if (class(subs)== 'matrix'){\n",
    "                                  t= dim(subs)[1]\n",
    "                                  for (p in 1:t){\n",
    "                                    index= subs[p, ]\n",
    "                                    if (pcor.test(X[, i], X[, k], X[ ,index])$p.value > pval & print_correlation(X[, i], X[, k], X[, index])< min_sig){\n",
    "                                      set= index\n",
    "                                      min_sig= print_correlation(X[, i], X[, k], X[, index])\n",
    "                                    }\n",
    "                                  }\n",
    "                                } else{\n",
    "                                  if (pcor.test(X[, i], X[, k], X[, subs])$p.value > pval & print_correlation(X[, i], X[, k], X[, subs])< min_sig){\n",
    "                                      set= subs\n",
    "                                      min_sig= print_correlation(X[, i], X[, k], X[, subs]) \n",
    "                                  }  \n",
    "                                }\n",
    "                          }\n",
    "                        l<- l+1\n",
    "                        if (total_degree(adjacency)<l+1){\n",
    "                            break\n",
    "                        }\n",
    "                    }\n",
    "                    if (!(j %in% set)){\n",
    "                        adj_v[i, j]= 2\n",
    "                        adj_v[j, i]= 3\n",
    "                        adj_v[k, j]= 2\n",
    "                        adj_v[j, k]= 3\n",
    "                    }\n",
    "                }\n",
    "            }\n",
    "        }\n",
    "    }\n",
    "    return(list(m1= adjacency, m2= adj_v))\n",
    "}"
   ]
  },
  {
   "cell_type": "markdown",
   "metadata": {},
   "source": [
    "# Meek rules:\n",
    "As we have in Meek rules:\n",
    "<img src=\"first.jpg\" alt= \"drawing\" width=\"400\" title=\"Meek's rules\" />\n",
    "so by using them I've searched by four nested loops for every structure like them:"
   ]
  },
  {
   "cell_type": "code",
   "execution_count": 108,
   "metadata": {},
   "outputs": [],
   "source": [
    "Meek_rule<- function(adj){\n",
    "    n= dim(adj)[1]\n",
    "    for (i in c(1:n)){\n",
    "        for (j in which(adj[i, ]== 2)){\n",
    "            for (k in which(adj[j, ]== 1)){\n",
    "                if (k!= i & adj[i, k]==0){\n",
    "                    adj[j, k]= 2\n",
    "                    adj[k, j]= 3\n",
    "                }\n",
    "            }\n",
    "        }\n",
    "    }\n",
    "    \n",
    "    for (i in c(1:n)){\n",
    "        for (j in which(adj[i, ]== 2)){\n",
    "            for (k in which(adj[j, ]== 2)){\n",
    "                if (k!= i & adj[i, k]==1){\n",
    "                    adj[i, k]= 2\n",
    "                    adj[k, i]= 3\n",
    "                }\n",
    "            }\n",
    "        }\n",
    "    }\n",
    "    \n",
    "    for (i in c(1:n)){\n",
    "        for (j in which(adj[i, ]== 2)){\n",
    "            for (k in which(adj[j, ]== 3)){\n",
    "                if (k!= i & adj[i, k]==0){\n",
    "                    for (l in c(1:n)){\n",
    "                        if (adj[i, l]==1 & adj[j, l]==1 & adj[k, l]==1){\n",
    "                            adj[l, j]= 2\n",
    "                            adj[j, l]= 3\n",
    "                        }\n",
    "                    }\n",
    "                }\n",
    "            }\n",
    "        }\n",
    "    }\n",
    "    \n",
    "    for (i in c(1:n)){\n",
    "        for (j in which(adj[i, ]== 3)){\n",
    "            for (k in which(adj[j, ]== 3)){\n",
    "                if (k!= i & adj[i, k]==0){\n",
    "                    for (l in c(1:n)){\n",
    "                        if (adj[i, l]==1 & adj[j, l]==1 & adj[k, l]==1){\n",
    "                            adj[l, i]= 2\n",
    "                            adj[i, l]= 3\n",
    "                        }\n",
    "                    }\n",
    "                }\n",
    "            }\n",
    "        }\n",
    "    } \n",
    "    adj\n",
    "}"
   ]
  },
  {
   "cell_type": "markdown",
   "metadata": {},
   "source": [
    "# Part3(Testing the algorithm)\n",
    "## a"
   ]
  },
  {
   "cell_type": "markdown",
   "metadata": {},
   "source": [
    "As I said checking independency is hard!\n",
    "So I make 100000 samples to have better results. note that I put $\\alpha= 0.001$ for correlation and $pvalue = 0.1$ for pcor function by just examining"
   ]
  },
  {
   "cell_type": "code",
   "execution_count": 97,
   "metadata": {
    "scrolled": false
   },
   "outputs": [
    {
     "data": {
      "text/html": [
       "<table>\n",
       "<caption>A matrix: 6 × 6 of type dbl</caption>\n",
       "<tbody>\n",
       "\t<tr><td>0</td><td>0</td><td>2</td><td>0</td><td>0</td><td>0</td></tr>\n",
       "\t<tr><td>0</td><td>0</td><td>2</td><td>0</td><td>0</td><td>2</td></tr>\n",
       "\t<tr><td>3</td><td>3</td><td>0</td><td>1</td><td>1</td><td>0</td></tr>\n",
       "\t<tr><td>0</td><td>0</td><td>1</td><td>0</td><td>1</td><td>0</td></tr>\n",
       "\t<tr><td>0</td><td>0</td><td>1</td><td>1</td><td>0</td><td>2</td></tr>\n",
       "\t<tr><td>0</td><td>3</td><td>0</td><td>0</td><td>3</td><td>0</td></tr>\n",
       "</tbody>\n",
       "</table>\n"
      ],
      "text/latex": [
       "A matrix: 6 × 6 of type dbl\n",
       "\\begin{tabular}{llllll}\n",
       "\t 0 & 0 & 2 & 0 & 0 & 0\\\\\n",
       "\t 0 & 0 & 2 & 0 & 0 & 2\\\\\n",
       "\t 3 & 3 & 0 & 1 & 1 & 0\\\\\n",
       "\t 0 & 0 & 1 & 0 & 1 & 0\\\\\n",
       "\t 0 & 0 & 1 & 1 & 0 & 2\\\\\n",
       "\t 0 & 3 & 0 & 0 & 3 & 0\\\\\n",
       "\\end{tabular}\n"
      ],
      "text/markdown": [
       "\n",
       "A matrix: 6 × 6 of type dbl\n",
       "\n",
       "| 0 | 0 | 2 | 0 | 0 | 0 |\n",
       "| 0 | 0 | 2 | 0 | 0 | 2 |\n",
       "| 3 | 3 | 0 | 1 | 1 | 0 |\n",
       "| 0 | 0 | 1 | 0 | 1 | 0 |\n",
       "| 0 | 0 | 1 | 1 | 0 | 2 |\n",
       "| 0 | 3 | 0 | 0 | 3 | 0 |\n",
       "\n"
      ],
      "text/plain": [
       "     [,1] [,2] [,3] [,4] [,5] [,6]\n",
       "[1,] 0    0    2    0    0    0   \n",
       "[2,] 0    0    2    0    0    2   \n",
       "[3,] 3    3    0    1    1    0   \n",
       "[4,] 0    0    1    0    1    0   \n",
       "[5,] 0    0    1    1    0    2   \n",
       "[6,] 0    3    0    0    3    0   "
      ]
     },
     "metadata": {},
     "output_type": "display_data"
    }
   ],
   "source": [
    "a= 0.001\n",
    "pval= 0.1\n",
    "L<-100000\n",
    "\n",
    "X1<- as.numeric(1.2*rnorm(L, 0 ,1))\n",
    "X2<- as.numeric(rnorm(L, 0 ,1))\n",
    "X3<- as.numeric(2*X1 - 0.5*X2+ rnorm(L, 0 ,1))\n",
    "X4<- as.numeric(0.4*X3+ rnorm(L, 0, 1))\n",
    "X5<- as.numeric(0.8*X3 - 1*X4 + 0.6*rnorm(L, 0, 1))\n",
    "X6<- as.numeric(X2+ X5+ rnorm(L, 0 , 1))\n",
    "X<- cbind(X1, X2, X3, X4, X5, X6)\n",
    "\n",
    "v_structures= v_adjacency(X, 0.1, 0.001)$m2; v_structures\n",
    "cpdag= Meek_rule(v_structures)"
   ]
  },
  {
   "cell_type": "markdown",
   "metadata": {},
   "source": [
    "So the cpDAg is:"
   ]
  },
  {
   "cell_type": "code",
   "execution_count": 98,
   "metadata": {},
   "outputs": [
    {
     "data": {
      "text/html": [
       "<table>\n",
       "<caption>A matrix: 6 × 6 of type dbl</caption>\n",
       "<tbody>\n",
       "\t<tr><td>0</td><td>0</td><td>2</td><td>0</td><td>0</td><td>0</td></tr>\n",
       "\t<tr><td>0</td><td>0</td><td>2</td><td>0</td><td>0</td><td>2</td></tr>\n",
       "\t<tr><td>3</td><td>3</td><td>0</td><td>2</td><td>2</td><td>0</td></tr>\n",
       "\t<tr><td>0</td><td>0</td><td>3</td><td>0</td><td>1</td><td>0</td></tr>\n",
       "\t<tr><td>0</td><td>0</td><td>3</td><td>1</td><td>0</td><td>2</td></tr>\n",
       "\t<tr><td>0</td><td>3</td><td>0</td><td>0</td><td>3</td><td>0</td></tr>\n",
       "</tbody>\n",
       "</table>\n"
      ],
      "text/latex": [
       "A matrix: 6 × 6 of type dbl\n",
       "\\begin{tabular}{llllll}\n",
       "\t 0 & 0 & 2 & 0 & 0 & 0\\\\\n",
       "\t 0 & 0 & 2 & 0 & 0 & 2\\\\\n",
       "\t 3 & 3 & 0 & 2 & 2 & 0\\\\\n",
       "\t 0 & 0 & 3 & 0 & 1 & 0\\\\\n",
       "\t 0 & 0 & 3 & 1 & 0 & 2\\\\\n",
       "\t 0 & 3 & 0 & 0 & 3 & 0\\\\\n",
       "\\end{tabular}\n"
      ],
      "text/markdown": [
       "\n",
       "A matrix: 6 × 6 of type dbl\n",
       "\n",
       "| 0 | 0 | 2 | 0 | 0 | 0 |\n",
       "| 0 | 0 | 2 | 0 | 0 | 2 |\n",
       "| 3 | 3 | 0 | 2 | 2 | 0 |\n",
       "| 0 | 0 | 3 | 0 | 1 | 0 |\n",
       "| 0 | 0 | 3 | 1 | 0 | 2 |\n",
       "| 0 | 3 | 0 | 0 | 3 | 0 |\n",
       "\n"
      ],
      "text/plain": [
       "     [,1] [,2] [,3] [,4] [,5] [,6]\n",
       "[1,] 0    0    2    0    0    0   \n",
       "[2,] 0    0    2    0    0    2   \n",
       "[3,] 3    3    0    2    2    0   \n",
       "[4,] 0    0    3    0    1    0   \n",
       "[5,] 0    0    3    1    0    2   \n",
       "[6,] 0    3    0    0    3    0   "
      ]
     },
     "metadata": {},
     "output_type": "display_data"
    }
   ],
   "source": [
    "cpdag"
   ]
  },
  {
   "cell_type": "markdown",
   "metadata": {},
   "source": [
    "note that the edge between 4 and 5 remained undirected."
   ]
  },
  {
   "cell_type": "markdown",
   "metadata": {},
   "source": [
    "## b"
   ]
  },
  {
   "cell_type": "markdown",
   "metadata": {},
   "source": [
    "by using \"randomDAG\" for generating a DAG and \"rmvDAG\" for generating data for it:"
   ]
  },
  {
   "cell_type": "code",
   "execution_count": 111,
   "metadata": {},
   "outputs": [
    {
     "data": {
      "image/png": "[encoded data removed]",
      "text/plain": [
       "Plot with title \"randomDAG(20, prob = 0.2, ..)\""
      ]
     },
     "metadata": {
      "image/png": {
       "height": 420,
       "width": 420
      },
      "text/plain": {
       "height": 420,
       "width": 420
      }
     },
     "output_type": "display_data"
    }
   ],
   "source": [
    "library(pcalg)\n",
    "library(Rgraphviz)\n",
    "\n",
    "p <- 20 \n",
    "rDAG <- randomDAG(p, prob = 0.2, lB=0.1, uB=1)\n",
    " \n",
    "plot(rDAG, main = \"randomDAG(20, prob = 0.2, ..)\")\n",
    "\n",
    "n=50000\n",
    "rDAG_Mat <- rmvDAG(n, rDAG, errDist=\"normal\")"
   ]
  },
  {
   "cell_type": "code",
   "execution_count": 112,
   "metadata": {},
   "outputs": [
    {
     "data": {
      "text/html": [
       "<table>\n",
       "<caption>A matrix: 20 × 20 of type dbl</caption>\n",
       "<tbody>\n",
       "\t<tr><td>0</td><td>0</td><td>0</td><td>1</td><td>1</td><td>0</td><td>0</td><td>0</td><td>0</td><td>0</td><td>2</td><td>0</td><td>0</td><td>0</td><td>0</td><td>0</td><td>0</td><td>0</td><td>0</td><td>0</td></tr>\n",
       "\t<tr><td>0</td><td>0</td><td>0</td><td>0</td><td>0</td><td>0</td><td>0</td><td>0</td><td>0</td><td>0</td><td>0</td><td>0</td><td>0</td><td>0</td><td>2</td><td>0</td><td>0</td><td>0</td><td>0</td><td>0</td></tr>\n",
       "\t<tr><td>0</td><td>0</td><td>0</td><td>0</td><td>0</td><td>0</td><td>1</td><td>1</td><td>0</td><td>0</td><td>0</td><td>0</td><td>0</td><td>2</td><td>0</td><td>0</td><td>0</td><td>0</td><td>0</td><td>0</td></tr>\n",
       "\t<tr><td>1</td><td>0</td><td>0</td><td>0</td><td>0</td><td>0</td><td>0</td><td>0</td><td>0</td><td>1</td><td>0</td><td>0</td><td>0</td><td>0</td><td>0</td><td>0</td><td>0</td><td>0</td><td>0</td><td>0</td></tr>\n",
       "\t<tr><td>1</td><td>0</td><td>0</td><td>0</td><td>0</td><td>0</td><td>0</td><td>0</td><td>0</td><td>0</td><td>0</td><td>2</td><td>0</td><td>0</td><td>0</td><td>0</td><td>0</td><td>0</td><td>0</td><td>0</td></tr>\n",
       "\t<tr><td>0</td><td>0</td><td>0</td><td>0</td><td>0</td><td>0</td><td>0</td><td>0</td><td>0</td><td>0</td><td>0</td><td>0</td><td>0</td><td>0</td><td>0</td><td>2</td><td>0</td><td>0</td><td>0</td><td>0</td></tr>\n",
       "\t<tr><td>0</td><td>0</td><td>1</td><td>0</td><td>0</td><td>0</td><td>0</td><td>0</td><td>0</td><td>0</td><td>0</td><td>2</td><td>0</td><td>0</td><td>0</td><td>0</td><td>0</td><td>0</td><td>0</td><td>0</td></tr>\n",
       "\t<tr><td>0</td><td>0</td><td>1</td><td>0</td><td>0</td><td>0</td><td>0</td><td>0</td><td>0</td><td>0</td><td>0</td><td>0</td><td>1</td><td>0</td><td>0</td><td>0</td><td>0</td><td>2</td><td>0</td><td>0</td></tr>\n",
       "\t<tr><td>0</td><td>0</td><td>0</td><td>0</td><td>0</td><td>0</td><td>0</td><td>0</td><td>0</td><td>0</td><td>0</td><td>0</td><td>0</td><td>0</td><td>2</td><td>0</td><td>0</td><td>2</td><td>0</td><td>2</td></tr>\n",
       "\t<tr><td>0</td><td>0</td><td>0</td><td>1</td><td>0</td><td>0</td><td>0</td><td>0</td><td>0</td><td>0</td><td>0</td><td>0</td><td>0</td><td>2</td><td>0</td><td>2</td><td>0</td><td>0</td><td>0</td><td>0</td></tr>\n",
       "\t<tr><td>3</td><td>0</td><td>0</td><td>0</td><td>0</td><td>0</td><td>0</td><td>0</td><td>0</td><td>0</td><td>0</td><td>0</td><td>3</td><td>2</td><td>0</td><td>2</td><td>0</td><td>2</td><td>0</td><td>0</td></tr>\n",
       "\t<tr><td>0</td><td>0</td><td>0</td><td>0</td><td>3</td><td>0</td><td>3</td><td>0</td><td>0</td><td>0</td><td>0</td><td>0</td><td>0</td><td>0</td><td>0</td><td>0</td><td>1</td><td>0</td><td>3</td><td>2</td></tr>\n",
       "\t<tr><td>0</td><td>0</td><td>0</td><td>0</td><td>0</td><td>0</td><td>0</td><td>1</td><td>0</td><td>0</td><td>2</td><td>0</td><td>0</td><td>0</td><td>0</td><td>0</td><td>0</td><td>0</td><td>2</td><td>0</td></tr>\n",
       "\t<tr><td>0</td><td>0</td><td>3</td><td>0</td><td>0</td><td>0</td><td>0</td><td>0</td><td>0</td><td>3</td><td>3</td><td>0</td><td>0</td><td>0</td><td>2</td><td>0</td><td>0</td><td>0</td><td>3</td><td>0</td></tr>\n",
       "\t<tr><td>0</td><td>3</td><td>0</td><td>0</td><td>0</td><td>0</td><td>0</td><td>0</td><td>3</td><td>0</td><td>0</td><td>0</td><td>0</td><td>3</td><td>0</td><td>0</td><td>0</td><td>0</td><td>0</td><td>3</td></tr>\n",
       "\t<tr><td>0</td><td>0</td><td>0</td><td>0</td><td>0</td><td>3</td><td>0</td><td>0</td><td>0</td><td>3</td><td>3</td><td>0</td><td>0</td><td>0</td><td>0</td><td>0</td><td>0</td><td>0</td><td>3</td><td>0</td></tr>\n",
       "\t<tr><td>0</td><td>0</td><td>0</td><td>0</td><td>0</td><td>0</td><td>0</td><td>0</td><td>0</td><td>0</td><td>0</td><td>1</td><td>0</td><td>0</td><td>0</td><td>0</td><td>0</td><td>0</td><td>0</td><td>0</td></tr>\n",
       "\t<tr><td>0</td><td>0</td><td>0</td><td>0</td><td>0</td><td>0</td><td>0</td><td>3</td><td>3</td><td>0</td><td>3</td><td>0</td><td>0</td><td>0</td><td>0</td><td>0</td><td>0</td><td>0</td><td>2</td><td>0</td></tr>\n",
       "\t<tr><td>0</td><td>0</td><td>0</td><td>0</td><td>0</td><td>0</td><td>0</td><td>0</td><td>0</td><td>0</td><td>0</td><td>2</td><td>3</td><td>2</td><td>0</td><td>2</td><td>0</td><td>3</td><td>0</td><td>2</td></tr>\n",
       "\t<tr><td>0</td><td>0</td><td>0</td><td>0</td><td>0</td><td>0</td><td>0</td><td>0</td><td>3</td><td>0</td><td>0</td><td>3</td><td>0</td><td>0</td><td>2</td><td>0</td><td>0</td><td>0</td><td>3</td><td>0</td></tr>\n",
       "</tbody>\n",
       "</table>\n"
      ],
      "text/latex": [
       "A matrix: 20 × 20 of type dbl\n",
       "\\begin{tabular}{llllllllllllllllllll}\n",
       "\t 0 & 0 & 0 & 1 & 1 & 0 & 0 & 0 & 0 & 0 & 2 & 0 & 0 & 0 & 0 & 0 & 0 & 0 & 0 & 0\\\\\n",
       "\t 0 & 0 & 0 & 0 & 0 & 0 & 0 & 0 & 0 & 0 & 0 & 0 & 0 & 0 & 2 & 0 & 0 & 0 & 0 & 0\\\\\n",
       "\t 0 & 0 & 0 & 0 & 0 & 0 & 1 & 1 & 0 & 0 & 0 & 0 & 0 & 2 & 0 & 0 & 0 & 0 & 0 & 0\\\\\n",
       "\t 1 & 0 & 0 & 0 & 0 & 0 & 0 & 0 & 0 & 1 & 0 & 0 & 0 & 0 & 0 & 0 & 0 & 0 & 0 & 0\\\\\n",
       "\t 1 & 0 & 0 & 0 & 0 & 0 & 0 & 0 & 0 & 0 & 0 & 2 & 0 & 0 & 0 & 0 & 0 & 0 & 0 & 0\\\\\n",
       "\t 0 & 0 & 0 & 0 & 0 & 0 & 0 & 0 & 0 & 0 & 0 & 0 & 0 & 0 & 0 & 2 & 0 & 0 & 0 & 0\\\\\n",
       "\t 0 & 0 & 1 & 0 & 0 & 0 & 0 & 0 & 0 & 0 & 0 & 2 & 0 & 0 & 0 & 0 & 0 & 0 & 0 & 0\\\\\n",
       "\t 0 & 0 & 1 & 0 & 0 & 0 & 0 & 0 & 0 & 0 & 0 & 0 & 1 & 0 & 0 & 0 & 0 & 2 & 0 & 0\\\\\n",
       "\t 0 & 0 & 0 & 0 & 0 & 0 & 0 & 0 & 0 & 0 & 0 & 0 & 0 & 0 & 2 & 0 & 0 & 2 & 0 & 2\\\\\n",
       "\t 0 & 0 & 0 & 1 & 0 & 0 & 0 & 0 & 0 & 0 & 0 & 0 & 0 & 2 & 0 & 2 & 0 & 0 & 0 & 0\\\\\n",
       "\t 3 & 0 & 0 & 0 & 0 & 0 & 0 & 0 & 0 & 0 & 0 & 0 & 3 & 2 & 0 & 2 & 0 & 2 & 0 & 0\\\\\n",
       "\t 0 & 0 & 0 & 0 & 3 & 0 & 3 & 0 & 0 & 0 & 0 & 0 & 0 & 0 & 0 & 0 & 1 & 0 & 3 & 2\\\\\n",
       "\t 0 & 0 & 0 & 0 & 0 & 0 & 0 & 1 & 0 & 0 & 2 & 0 & 0 & 0 & 0 & 0 & 0 & 0 & 2 & 0\\\\\n",
       "\t 0 & 0 & 3 & 0 & 0 & 0 & 0 & 0 & 0 & 3 & 3 & 0 & 0 & 0 & 2 & 0 & 0 & 0 & 3 & 0\\\\\n",
       "\t 0 & 3 & 0 & 0 & 0 & 0 & 0 & 0 & 3 & 0 & 0 & 0 & 0 & 3 & 0 & 0 & 0 & 0 & 0 & 3\\\\\n",
       "\t 0 & 0 & 0 & 0 & 0 & 3 & 0 & 0 & 0 & 3 & 3 & 0 & 0 & 0 & 0 & 0 & 0 & 0 & 3 & 0\\\\\n",
       "\t 0 & 0 & 0 & 0 & 0 & 0 & 0 & 0 & 0 & 0 & 0 & 1 & 0 & 0 & 0 & 0 & 0 & 0 & 0 & 0\\\\\n",
       "\t 0 & 0 & 0 & 0 & 0 & 0 & 0 & 3 & 3 & 0 & 3 & 0 & 0 & 0 & 0 & 0 & 0 & 0 & 2 & 0\\\\\n",
       "\t 0 & 0 & 0 & 0 & 0 & 0 & 0 & 0 & 0 & 0 & 0 & 2 & 3 & 2 & 0 & 2 & 0 & 3 & 0 & 2\\\\\n",
       "\t 0 & 0 & 0 & 0 & 0 & 0 & 0 & 0 & 3 & 0 & 0 & 3 & 0 & 0 & 2 & 0 & 0 & 0 & 3 & 0\\\\\n",
       "\\end{tabular}\n"
      ],
      "text/markdown": [
       "\n",
       "A matrix: 20 × 20 of type dbl\n",
       "\n",
       "| 0 | 0 | 0 | 1 | 1 | 0 | 0 | 0 | 0 | 0 | 2 | 0 | 0 | 0 | 0 | 0 | 0 | 0 | 0 | 0 |\n",
       "| 0 | 0 | 0 | 0 | 0 | 0 | 0 | 0 | 0 | 0 | 0 | 0 | 0 | 0 | 2 | 0 | 0 | 0 | 0 | 0 |\n",
       "| 0 | 0 | 0 | 0 | 0 | 0 | 1 | 1 | 0 | 0 | 0 | 0 | 0 | 2 | 0 | 0 | 0 | 0 | 0 | 0 |\n",
       "| 1 | 0 | 0 | 0 | 0 | 0 | 0 | 0 | 0 | 1 | 0 | 0 | 0 | 0 | 0 | 0 | 0 | 0 | 0 | 0 |\n",
       "| 1 | 0 | 0 | 0 | 0 | 0 | 0 | 0 | 0 | 0 | 0 | 2 | 0 | 0 | 0 | 0 | 0 | 0 | 0 | 0 |\n",
       "| 0 | 0 | 0 | 0 | 0 | 0 | 0 | 0 | 0 | 0 | 0 | 0 | 0 | 0 | 0 | 2 | 0 | 0 | 0 | 0 |\n",
       "| 0 | 0 | 1 | 0 | 0 | 0 | 0 | 0 | 0 | 0 | 0 | 2 | 0 | 0 | 0 | 0 | 0 | 0 | 0 | 0 |\n",
       "| 0 | 0 | 1 | 0 | 0 | 0 | 0 | 0 | 0 | 0 | 0 | 0 | 1 | 0 | 0 | 0 | 0 | 2 | 0 | 0 |\n",
       "| 0 | 0 | 0 | 0 | 0 | 0 | 0 | 0 | 0 | 0 | 0 | 0 | 0 | 0 | 2 | 0 | 0 | 2 | 0 | 2 |\n",
       "| 0 | 0 | 0 | 1 | 0 | 0 | 0 | 0 | 0 | 0 | 0 | 0 | 0 | 2 | 0 | 2 | 0 | 0 | 0 | 0 |\n",
       "| 3 | 0 | 0 | 0 | 0 | 0 | 0 | 0 | 0 | 0 | 0 | 0 | 3 | 2 | 0 | 2 | 0 | 2 | 0 | 0 |\n",
       "| 0 | 0 | 0 | 0 | 3 | 0 | 3 | 0 | 0 | 0 | 0 | 0 | 0 | 0 | 0 | 0 | 1 | 0 | 3 | 2 |\n",
       "| 0 | 0 | 0 | 0 | 0 | 0 | 0 | 1 | 0 | 0 | 2 | 0 | 0 | 0 | 0 | 0 | 0 | 0 | 2 | 0 |\n",
       "| 0 | 0 | 3 | 0 | 0 | 0 | 0 | 0 | 0 | 3 | 3 | 0 | 0 | 0 | 2 | 0 | 0 | 0 | 3 | 0 |\n",
       "| 0 | 3 | 0 | 0 | 0 | 0 | 0 | 0 | 3 | 0 | 0 | 0 | 0 | 3 | 0 | 0 | 0 | 0 | 0 | 3 |\n",
       "| 0 | 0 | 0 | 0 | 0 | 3 | 0 | 0 | 0 | 3 | 3 | 0 | 0 | 0 | 0 | 0 | 0 | 0 | 3 | 0 |\n",
       "| 0 | 0 | 0 | 0 | 0 | 0 | 0 | 0 | 0 | 0 | 0 | 1 | 0 | 0 | 0 | 0 | 0 | 0 | 0 | 0 |\n",
       "| 0 | 0 | 0 | 0 | 0 | 0 | 0 | 3 | 3 | 0 | 3 | 0 | 0 | 0 | 0 | 0 | 0 | 0 | 2 | 0 |\n",
       "| 0 | 0 | 0 | 0 | 0 | 0 | 0 | 0 | 0 | 0 | 0 | 2 | 3 | 2 | 0 | 2 | 0 | 3 | 0 | 2 |\n",
       "| 0 | 0 | 0 | 0 | 0 | 0 | 0 | 0 | 3 | 0 | 0 | 3 | 0 | 0 | 2 | 0 | 0 | 0 | 3 | 0 |\n",
       "\n"
      ],
      "text/plain": [
       "      [,1] [,2] [,3] [,4] [,5] [,6] [,7] [,8] [,9] [,10] [,11] [,12] [,13]\n",
       " [1,] 0    0    0    1    1    0    0    0    0    0     2     0     0    \n",
       " [2,] 0    0    0    0    0    0    0    0    0    0     0     0     0    \n",
       " [3,] 0    0    0    0    0    0    1    1    0    0     0     0     0    \n",
       " [4,] 1    0    0    0    0    0    0    0    0    1     0     0     0    \n",
       " [5,] 1    0    0    0    0    0    0    0    0    0     0     2     0    \n",
       " [6,] 0    0    0    0    0    0    0    0    0    0     0     0     0    \n",
       " [7,] 0    0    1    0    0    0    0    0    0    0     0     2     0    \n",
       " [8,] 0    0    1    0    0    0    0    0    0    0     0     0     1    \n",
       " [9,] 0    0    0    0    0    0    0    0    0    0     0     0     0    \n",
       "[10,] 0    0    0    1    0    0    0    0    0    0     0     0     0    \n",
       "[11,] 3    0    0    0    0    0    0    0    0    0     0     0     3    \n",
       "[12,] 0    0    0    0    3    0    3    0    0    0     0     0     0    \n",
       "[13,] 0    0    0    0    0    0    0    1    0    0     2     0     0    \n",
       "[14,] 0    0    3    0    0    0    0    0    0    3     3     0     0    \n",
       "[15,] 0    3    0    0    0    0    0    0    3    0     0     0     0    \n",
       "[16,] 0    0    0    0    0    3    0    0    0    3     3     0     0    \n",
       "[17,] 0    0    0    0    0    0    0    0    0    0     0     1     0    \n",
       "[18,] 0    0    0    0    0    0    0    3    3    0     3     0     0    \n",
       "[19,] 0    0    0    0    0    0    0    0    0    0     0     2     3    \n",
       "[20,] 0    0    0    0    0    0    0    0    3    0     0     3     0    \n",
       "      [,14] [,15] [,16] [,17] [,18] [,19] [,20]\n",
       " [1,] 0     0     0     0     0     0     0    \n",
       " [2,] 0     2     0     0     0     0     0    \n",
       " [3,] 2     0     0     0     0     0     0    \n",
       " [4,] 0     0     0     0     0     0     0    \n",
       " [5,] 0     0     0     0     0     0     0    \n",
       " [6,] 0     0     2     0     0     0     0    \n",
       " [7,] 0     0     0     0     0     0     0    \n",
       " [8,] 0     0     0     0     2     0     0    \n",
       " [9,] 0     2     0     0     2     0     2    \n",
       "[10,] 2     0     2     0     0     0     0    \n",
       "[11,] 2     0     2     0     2     0     0    \n",
       "[12,] 0     0     0     1     0     3     2    \n",
       "[13,] 0     0     0     0     0     2     0    \n",
       "[14,] 0     2     0     0     0     3     0    \n",
       "[15,] 3     0     0     0     0     0     3    \n",
       "[16,] 0     0     0     0     0     3     0    \n",
       "[17,] 0     0     0     0     0     0     0    \n",
       "[18,] 0     0     0     0     0     2     0    \n",
       "[19,] 2     0     2     0     3     0     2    \n",
       "[20,] 0     2     0     0     0     3     0    "
      ]
     },
     "metadata": {},
     "output_type": "display_data"
    },
    {
     "data": {
      "text/html": [
       "<table>\n",
       "<caption>A matrix: 20 × 20 of type dbl</caption>\n",
       "<tbody>\n",
       "\t<tr><td>0</td><td>0</td><td>0</td><td>1</td><td>1</td><td>0</td><td>0</td><td>0</td><td>0</td><td>0</td><td>2</td><td>0</td><td>0</td><td>0</td><td>0</td><td>0</td><td>0</td><td>0</td><td>0</td><td>0</td></tr>\n",
       "\t<tr><td>0</td><td>0</td><td>0</td><td>0</td><td>0</td><td>0</td><td>0</td><td>0</td><td>0</td><td>0</td><td>0</td><td>0</td><td>0</td><td>0</td><td>2</td><td>0</td><td>0</td><td>0</td><td>0</td><td>0</td></tr>\n",
       "\t<tr><td>0</td><td>0</td><td>0</td><td>0</td><td>0</td><td>0</td><td>1</td><td>1</td><td>0</td><td>0</td><td>0</td><td>0</td><td>0</td><td>2</td><td>0</td><td>0</td><td>0</td><td>0</td><td>0</td><td>0</td></tr>\n",
       "\t<tr><td>1</td><td>0</td><td>0</td><td>0</td><td>0</td><td>0</td><td>0</td><td>0</td><td>0</td><td>1</td><td>0</td><td>0</td><td>0</td><td>0</td><td>0</td><td>0</td><td>0</td><td>0</td><td>0</td><td>0</td></tr>\n",
       "\t<tr><td>1</td><td>0</td><td>0</td><td>0</td><td>0</td><td>0</td><td>0</td><td>0</td><td>0</td><td>0</td><td>0</td><td>2</td><td>0</td><td>0</td><td>0</td><td>0</td><td>0</td><td>0</td><td>0</td><td>0</td></tr>\n",
       "\t<tr><td>0</td><td>0</td><td>0</td><td>0</td><td>0</td><td>0</td><td>0</td><td>0</td><td>0</td><td>0</td><td>0</td><td>0</td><td>0</td><td>0</td><td>0</td><td>2</td><td>0</td><td>0</td><td>0</td><td>0</td></tr>\n",
       "\t<tr><td>0</td><td>0</td><td>1</td><td>0</td><td>0</td><td>0</td><td>0</td><td>0</td><td>0</td><td>0</td><td>0</td><td>2</td><td>0</td><td>0</td><td>0</td><td>0</td><td>0</td><td>0</td><td>0</td><td>0</td></tr>\n",
       "\t<tr><td>0</td><td>0</td><td>1</td><td>0</td><td>0</td><td>0</td><td>0</td><td>0</td><td>0</td><td>0</td><td>0</td><td>0</td><td>1</td><td>0</td><td>0</td><td>0</td><td>0</td><td>2</td><td>0</td><td>0</td></tr>\n",
       "\t<tr><td>0</td><td>0</td><td>0</td><td>0</td><td>0</td><td>0</td><td>0</td><td>0</td><td>0</td><td>0</td><td>0</td><td>0</td><td>0</td><td>0</td><td>2</td><td>0</td><td>0</td><td>2</td><td>0</td><td>2</td></tr>\n",
       "\t<tr><td>0</td><td>0</td><td>0</td><td>1</td><td>0</td><td>0</td><td>0</td><td>0</td><td>0</td><td>0</td><td>0</td><td>0</td><td>0</td><td>2</td><td>0</td><td>2</td><td>0</td><td>0</td><td>0</td><td>0</td></tr>\n",
       "\t<tr><td>3</td><td>0</td><td>0</td><td>0</td><td>0</td><td>0</td><td>0</td><td>0</td><td>0</td><td>0</td><td>0</td><td>0</td><td>3</td><td>2</td><td>0</td><td>2</td><td>0</td><td>2</td><td>0</td><td>0</td></tr>\n",
       "\t<tr><td>0</td><td>0</td><td>0</td><td>0</td><td>3</td><td>0</td><td>3</td><td>0</td><td>0</td><td>0</td><td>0</td><td>0</td><td>0</td><td>0</td><td>0</td><td>0</td><td>2</td><td>0</td><td>3</td><td>2</td></tr>\n",
       "\t<tr><td>0</td><td>0</td><td>0</td><td>0</td><td>0</td><td>0</td><td>0</td><td>1</td><td>0</td><td>0</td><td>2</td><td>0</td><td>0</td><td>0</td><td>0</td><td>0</td><td>0</td><td>0</td><td>2</td><td>0</td></tr>\n",
       "\t<tr><td>0</td><td>0</td><td>3</td><td>0</td><td>0</td><td>0</td><td>0</td><td>0</td><td>0</td><td>3</td><td>3</td><td>0</td><td>0</td><td>0</td><td>2</td><td>0</td><td>0</td><td>0</td><td>3</td><td>0</td></tr>\n",
       "\t<tr><td>0</td><td>3</td><td>0</td><td>0</td><td>0</td><td>0</td><td>0</td><td>0</td><td>3</td><td>0</td><td>0</td><td>0</td><td>0</td><td>3</td><td>0</td><td>0</td><td>0</td><td>0</td><td>0</td><td>3</td></tr>\n",
       "\t<tr><td>0</td><td>0</td><td>0</td><td>0</td><td>0</td><td>3</td><td>0</td><td>0</td><td>0</td><td>3</td><td>3</td><td>0</td><td>0</td><td>0</td><td>0</td><td>0</td><td>0</td><td>0</td><td>3</td><td>0</td></tr>\n",
       "\t<tr><td>0</td><td>0</td><td>0</td><td>0</td><td>0</td><td>0</td><td>0</td><td>0</td><td>0</td><td>0</td><td>0</td><td>3</td><td>0</td><td>0</td><td>0</td><td>0</td><td>0</td><td>0</td><td>0</td><td>0</td></tr>\n",
       "\t<tr><td>0</td><td>0</td><td>0</td><td>0</td><td>0</td><td>0</td><td>0</td><td>3</td><td>3</td><td>0</td><td>3</td><td>0</td><td>0</td><td>0</td><td>0</td><td>0</td><td>0</td><td>0</td><td>2</td><td>0</td></tr>\n",
       "\t<tr><td>0</td><td>0</td><td>0</td><td>0</td><td>0</td><td>0</td><td>0</td><td>0</td><td>0</td><td>0</td><td>0</td><td>2</td><td>3</td><td>2</td><td>0</td><td>2</td><td>0</td><td>3</td><td>0</td><td>2</td></tr>\n",
       "\t<tr><td>0</td><td>0</td><td>0</td><td>0</td><td>0</td><td>0</td><td>0</td><td>0</td><td>3</td><td>0</td><td>0</td><td>3</td><td>0</td><td>0</td><td>2</td><td>0</td><td>0</td><td>0</td><td>3</td><td>0</td></tr>\n",
       "</tbody>\n",
       "</table>\n"
      ],
      "text/latex": [
       "A matrix: 20 × 20 of type dbl\n",
       "\\begin{tabular}{llllllllllllllllllll}\n",
       "\t 0 & 0 & 0 & 1 & 1 & 0 & 0 & 0 & 0 & 0 & 2 & 0 & 0 & 0 & 0 & 0 & 0 & 0 & 0 & 0\\\\\n",
       "\t 0 & 0 & 0 & 0 & 0 & 0 & 0 & 0 & 0 & 0 & 0 & 0 & 0 & 0 & 2 & 0 & 0 & 0 & 0 & 0\\\\\n",
       "\t 0 & 0 & 0 & 0 & 0 & 0 & 1 & 1 & 0 & 0 & 0 & 0 & 0 & 2 & 0 & 0 & 0 & 0 & 0 & 0\\\\\n",
       "\t 1 & 0 & 0 & 0 & 0 & 0 & 0 & 0 & 0 & 1 & 0 & 0 & 0 & 0 & 0 & 0 & 0 & 0 & 0 & 0\\\\\n",
       "\t 1 & 0 & 0 & 0 & 0 & 0 & 0 & 0 & 0 & 0 & 0 & 2 & 0 & 0 & 0 & 0 & 0 & 0 & 0 & 0\\\\\n",
       "\t 0 & 0 & 0 & 0 & 0 & 0 & 0 & 0 & 0 & 0 & 0 & 0 & 0 & 0 & 0 & 2 & 0 & 0 & 0 & 0\\\\\n",
       "\t 0 & 0 & 1 & 0 & 0 & 0 & 0 & 0 & 0 & 0 & 0 & 2 & 0 & 0 & 0 & 0 & 0 & 0 & 0 & 0\\\\\n",
       "\t 0 & 0 & 1 & 0 & 0 & 0 & 0 & 0 & 0 & 0 & 0 & 0 & 1 & 0 & 0 & 0 & 0 & 2 & 0 & 0\\\\\n",
       "\t 0 & 0 & 0 & 0 & 0 & 0 & 0 & 0 & 0 & 0 & 0 & 0 & 0 & 0 & 2 & 0 & 0 & 2 & 0 & 2\\\\\n",
       "\t 0 & 0 & 0 & 1 & 0 & 0 & 0 & 0 & 0 & 0 & 0 & 0 & 0 & 2 & 0 & 2 & 0 & 0 & 0 & 0\\\\\n",
       "\t 3 & 0 & 0 & 0 & 0 & 0 & 0 & 0 & 0 & 0 & 0 & 0 & 3 & 2 & 0 & 2 & 0 & 2 & 0 & 0\\\\\n",
       "\t 0 & 0 & 0 & 0 & 3 & 0 & 3 & 0 & 0 & 0 & 0 & 0 & 0 & 0 & 0 & 0 & 2 & 0 & 3 & 2\\\\\n",
       "\t 0 & 0 & 0 & 0 & 0 & 0 & 0 & 1 & 0 & 0 & 2 & 0 & 0 & 0 & 0 & 0 & 0 & 0 & 2 & 0\\\\\n",
       "\t 0 & 0 & 3 & 0 & 0 & 0 & 0 & 0 & 0 & 3 & 3 & 0 & 0 & 0 & 2 & 0 & 0 & 0 & 3 & 0\\\\\n",
       "\t 0 & 3 & 0 & 0 & 0 & 0 & 0 & 0 & 3 & 0 & 0 & 0 & 0 & 3 & 0 & 0 & 0 & 0 & 0 & 3\\\\\n",
       "\t 0 & 0 & 0 & 0 & 0 & 3 & 0 & 0 & 0 & 3 & 3 & 0 & 0 & 0 & 0 & 0 & 0 & 0 & 3 & 0\\\\\n",
       "\t 0 & 0 & 0 & 0 & 0 & 0 & 0 & 0 & 0 & 0 & 0 & 3 & 0 & 0 & 0 & 0 & 0 & 0 & 0 & 0\\\\\n",
       "\t 0 & 0 & 0 & 0 & 0 & 0 & 0 & 3 & 3 & 0 & 3 & 0 & 0 & 0 & 0 & 0 & 0 & 0 & 2 & 0\\\\\n",
       "\t 0 & 0 & 0 & 0 & 0 & 0 & 0 & 0 & 0 & 0 & 0 & 2 & 3 & 2 & 0 & 2 & 0 & 3 & 0 & 2\\\\\n",
       "\t 0 & 0 & 0 & 0 & 0 & 0 & 0 & 0 & 3 & 0 & 0 & 3 & 0 & 0 & 2 & 0 & 0 & 0 & 3 & 0\\\\\n",
       "\\end{tabular}\n"
      ],
      "text/markdown": [
       "\n",
       "A matrix: 20 × 20 of type dbl\n",
       "\n",
       "| 0 | 0 | 0 | 1 | 1 | 0 | 0 | 0 | 0 | 0 | 2 | 0 | 0 | 0 | 0 | 0 | 0 | 0 | 0 | 0 |\n",
       "| 0 | 0 | 0 | 0 | 0 | 0 | 0 | 0 | 0 | 0 | 0 | 0 | 0 | 0 | 2 | 0 | 0 | 0 | 0 | 0 |\n",
       "| 0 | 0 | 0 | 0 | 0 | 0 | 1 | 1 | 0 | 0 | 0 | 0 | 0 | 2 | 0 | 0 | 0 | 0 | 0 | 0 |\n",
       "| 1 | 0 | 0 | 0 | 0 | 0 | 0 | 0 | 0 | 1 | 0 | 0 | 0 | 0 | 0 | 0 | 0 | 0 | 0 | 0 |\n",
       "| 1 | 0 | 0 | 0 | 0 | 0 | 0 | 0 | 0 | 0 | 0 | 2 | 0 | 0 | 0 | 0 | 0 | 0 | 0 | 0 |\n",
       "| 0 | 0 | 0 | 0 | 0 | 0 | 0 | 0 | 0 | 0 | 0 | 0 | 0 | 0 | 0 | 2 | 0 | 0 | 0 | 0 |\n",
       "| 0 | 0 | 1 | 0 | 0 | 0 | 0 | 0 | 0 | 0 | 0 | 2 | 0 | 0 | 0 | 0 | 0 | 0 | 0 | 0 |\n",
       "| 0 | 0 | 1 | 0 | 0 | 0 | 0 | 0 | 0 | 0 | 0 | 0 | 1 | 0 | 0 | 0 | 0 | 2 | 0 | 0 |\n",
       "| 0 | 0 | 0 | 0 | 0 | 0 | 0 | 0 | 0 | 0 | 0 | 0 | 0 | 0 | 2 | 0 | 0 | 2 | 0 | 2 |\n",
       "| 0 | 0 | 0 | 1 | 0 | 0 | 0 | 0 | 0 | 0 | 0 | 0 | 0 | 2 | 0 | 2 | 0 | 0 | 0 | 0 |\n",
       "| 3 | 0 | 0 | 0 | 0 | 0 | 0 | 0 | 0 | 0 | 0 | 0 | 3 | 2 | 0 | 2 | 0 | 2 | 0 | 0 |\n",
       "| 0 | 0 | 0 | 0 | 3 | 0 | 3 | 0 | 0 | 0 | 0 | 0 | 0 | 0 | 0 | 0 | 2 | 0 | 3 | 2 |\n",
       "| 0 | 0 | 0 | 0 | 0 | 0 | 0 | 1 | 0 | 0 | 2 | 0 | 0 | 0 | 0 | 0 | 0 | 0 | 2 | 0 |\n",
       "| 0 | 0 | 3 | 0 | 0 | 0 | 0 | 0 | 0 | 3 | 3 | 0 | 0 | 0 | 2 | 0 | 0 | 0 | 3 | 0 |\n",
       "| 0 | 3 | 0 | 0 | 0 | 0 | 0 | 0 | 3 | 0 | 0 | 0 | 0 | 3 | 0 | 0 | 0 | 0 | 0 | 3 |\n",
       "| 0 | 0 | 0 | 0 | 0 | 3 | 0 | 0 | 0 | 3 | 3 | 0 | 0 | 0 | 0 | 0 | 0 | 0 | 3 | 0 |\n",
       "| 0 | 0 | 0 | 0 | 0 | 0 | 0 | 0 | 0 | 0 | 0 | 3 | 0 | 0 | 0 | 0 | 0 | 0 | 0 | 0 |\n",
       "| 0 | 0 | 0 | 0 | 0 | 0 | 0 | 3 | 3 | 0 | 3 | 0 | 0 | 0 | 0 | 0 | 0 | 0 | 2 | 0 |\n",
       "| 0 | 0 | 0 | 0 | 0 | 0 | 0 | 0 | 0 | 0 | 0 | 2 | 3 | 2 | 0 | 2 | 0 | 3 | 0 | 2 |\n",
       "| 0 | 0 | 0 | 0 | 0 | 0 | 0 | 0 | 3 | 0 | 0 | 3 | 0 | 0 | 2 | 0 | 0 | 0 | 3 | 0 |\n",
       "\n"
      ],
      "text/plain": [
       "      [,1] [,2] [,3] [,4] [,5] [,6] [,7] [,8] [,9] [,10] [,11] [,12] [,13]\n",
       " [1,] 0    0    0    1    1    0    0    0    0    0     2     0     0    \n",
       " [2,] 0    0    0    0    0    0    0    0    0    0     0     0     0    \n",
       " [3,] 0    0    0    0    0    0    1    1    0    0     0     0     0    \n",
       " [4,] 1    0    0    0    0    0    0    0    0    1     0     0     0    \n",
       " [5,] 1    0    0    0    0    0    0    0    0    0     0     2     0    \n",
       " [6,] 0    0    0    0    0    0    0    0    0    0     0     0     0    \n",
       " [7,] 0    0    1    0    0    0    0    0    0    0     0     2     0    \n",
       " [8,] 0    0    1    0    0    0    0    0    0    0     0     0     1    \n",
       " [9,] 0    0    0    0    0    0    0    0    0    0     0     0     0    \n",
       "[10,] 0    0    0    1    0    0    0    0    0    0     0     0     0    \n",
       "[11,] 3    0    0    0    0    0    0    0    0    0     0     0     3    \n",
       "[12,] 0    0    0    0    3    0    3    0    0    0     0     0     0    \n",
       "[13,] 0    0    0    0    0    0    0    1    0    0     2     0     0    \n",
       "[14,] 0    0    3    0    0    0    0    0    0    3     3     0     0    \n",
       "[15,] 0    3    0    0    0    0    0    0    3    0     0     0     0    \n",
       "[16,] 0    0    0    0    0    3    0    0    0    3     3     0     0    \n",
       "[17,] 0    0    0    0    0    0    0    0    0    0     0     3     0    \n",
       "[18,] 0    0    0    0    0    0    0    3    3    0     3     0     0    \n",
       "[19,] 0    0    0    0    0    0    0    0    0    0     0     2     3    \n",
       "[20,] 0    0    0    0    0    0    0    0    3    0     0     3     0    \n",
       "      [,14] [,15] [,16] [,17] [,18] [,19] [,20]\n",
       " [1,] 0     0     0     0     0     0     0    \n",
       " [2,] 0     2     0     0     0     0     0    \n",
       " [3,] 2     0     0     0     0     0     0    \n",
       " [4,] 0     0     0     0     0     0     0    \n",
       " [5,] 0     0     0     0     0     0     0    \n",
       " [6,] 0     0     2     0     0     0     0    \n",
       " [7,] 0     0     0     0     0     0     0    \n",
       " [8,] 0     0     0     0     2     0     0    \n",
       " [9,] 0     2     0     0     2     0     2    \n",
       "[10,] 2     0     2     0     0     0     0    \n",
       "[11,] 2     0     2     0     2     0     0    \n",
       "[12,] 0     0     0     2     0     3     2    \n",
       "[13,] 0     0     0     0     0     2     0    \n",
       "[14,] 0     2     0     0     0     3     0    \n",
       "[15,] 3     0     0     0     0     0     3    \n",
       "[16,] 0     0     0     0     0     3     0    \n",
       "[17,] 0     0     0     0     0     0     0    \n",
       "[18,] 0     0     0     0     0     2     0    \n",
       "[19,] 2     0     2     0     3     0     2    \n",
       "[20,] 0     2     0     0     0     3     0    "
      ]
     },
     "metadata": {},
     "output_type": "display_data"
    }
   ],
   "source": [
    "test_vstructures= v_adjacency(rDAG_Mat, 0.1, 0.001)$m2; test_vstructures\n",
    "test_cpdag= Meek_rule(test_vstructures); test_cpdag"
   ]
  },
  {
   "cell_type": "markdown",
   "metadata": {},
   "source": [
    "The result is not so good!\n",
    "I think it's because of having no good function for checking independecy!"
   ]
  },
  {
   "cell_type": "code",
   "execution_count": null,
   "metadata": {},
   "outputs": [],
   "source": []
  }
 ],
 "metadata": {
  "kernelspec": {
   "display_name": "R 3.6",
   "language": "R",
   "name": "ir36"
  },
  "language_info": {
   "codemirror_mode": "r",
   "file_extension": ".r",
   "mimetype": "text/x-r-source",
   "name": "R",
   "pygments_lexer": "r",
   "version": "3.6.1"
  }
 },
 "nbformat": 4,
 "nbformat_minor": 2
}
